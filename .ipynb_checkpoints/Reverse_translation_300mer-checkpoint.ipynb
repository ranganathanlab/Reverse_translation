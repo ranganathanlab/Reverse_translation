{
 "cells": [
  {
   "cell_type": "code",
   "execution_count": 1,
   "metadata": {},
   "outputs": [],
   "source": [
    "from __future__ import division \n",
    "import sys\n",
    "import numpy as np\n",
    "import csv\n",
    "import pandas as pd\n",
    "from numba import jit\n",
    "from Bio.Seq import Seq\n",
    "from Bio import SeqIO\n",
    "import Bio.SeqUtils.MeltingTemp as mt\n",
    "import scipy.io as sio\n",
    "import xlwt \n",
    "from xlwt import Workbook \n",
    "import matplotlib.pyplot as plt"
   ]
  },
  {
   "cell_type": "code",
   "execution_count": 2,
   "metadata": {},
   "outputs": [],
   "source": [
    "def get_seq(filename, get_header = False):\n",
    "    records = list(SeqIO.parse(filename, \"fasta\"))\n",
    "    records_seq = [i.seq for i in records]\n",
    "    headers = [i.description for i in records]\n",
    "    if get_header == True:\n",
    "        return records_seq, headers\n",
    "    else:\n",
    "        return records_seq"
   ]
  },
  {
   "cell_type": "code",
   "execution_count": 3,
   "metadata": {},
   "outputs": [],
   "source": [
    "seq, head = get_seq('Final_New_Proteins.fasta', get_header = True)\n",
    "N = len(seq)"
   ]
  },
  {
   "cell_type": "markdown",
   "metadata": {},
   "source": [
    "tblastn -query Final_New_Proteins_nogap.fasta -subject twist_red_seqs_forblast.an -max_target_seqs 1 -evalue 1e-3 -word_size 6 -outfmt 6 > blast_local2.txt  \n",
    "  \n",
    "Workflow:\n",
    "1. Blast the local library with above codes\n",
    "2. Running following codes to remove sequences without blast results\n",
    "  \n",
    "If there is already *localkeep_New_Proteins.fasta* and *lib_local.mat*, skip this step."
   ]
  },
  {
   "cell_type": "code",
   "execution_count": 4,
   "metadata": {},
   "outputs": [],
   "source": [
    "blast = pd.read_csv(\"blast_local2.txt\", sep = '\\t', header=None)\n",
    "Nb = len(blast)"
   ]
  },
  {
   "cell_type": "code",
   "execution_count": 5,
   "metadata": {},
   "outputs": [
    {
     "data": {
      "text/plain": [
       "8868"
      ]
     },
     "execution_count": 5,
     "metadata": {},
     "output_type": "execute_result"
    }
   ],
   "source": [
    "keep = []\n",
    "blast_head = np.array(blast[0])\n",
    "for i in range(N):\n",
    "    if head[i] in blast_head:\n",
    "        keep.append(i)\n",
    "len(keep)"
   ]
  },
  {
   "cell_type": "code",
   "execution_count": null,
   "metadata": {},
   "outputs": [],
   "source": [
    "seqg, headg = get_seq('twist_red_seqs_forblast.an', get_header = True)\n",
    "Ng = len(seqg)\n",
    "\n",
    "local_gene = []\n",
    "bind_array = np.array(blast_new[1]).astype(str)\n",
    "for i in range(Nb):\n",
    "    for j in range(Ng):\n",
    "        if bind_array[i] == headg[j]:\n",
    "            local_gene.append(seqg[j])\n",
    "            break"
   ]
  },
  {
   "cell_type": "code",
   "execution_count": null,
   "metadata": {},
   "outputs": [],
   "source": [
    "a = [str(i).lower() for i in local_gene]\n",
    "sio.savemat('local_gene.mat', {'gene':a}) \n",
    "# genes for the local blasted result, use the matlab file to trim..."
   ]
  },
  {
   "cell_type": "markdown",
   "metadata": {},
   "source": [
    "---\n",
    "3. Trim genes and get alignment using the matlab codes (local.m)...\n",
    "4. Run following codes to remove RE sites and add assembly primers"
   ]
  },
  {
   "cell_type": "code",
   "execution_count": 9,
   "metadata": {},
   "outputs": [],
   "source": [
    "def sampling(aa, transdict, randstate):\n",
    "    # Sample the codon for a single amino acid position (return nothing if the position is gap)\n",
    "    if aa == '-':\n",
    "        return ''\n",
    "    elif np.size(TransDict[aa]['frequency']) ==1: \n",
    "        #For AA with only one codon\n",
    "        return(TransDict[aa]['codon'])\n",
    "    else: \n",
    "        # for AA with more than one codons\n",
    "        np.random.seed(randstate)\n",
    "        sample_tmp = np.random.multinomial(1,np.array(TransDict[aa]['frequency']))\n",
    "        sample_index = np.where(sample_tmp!=0)[0]\n",
    "        return TransDict[aa]['codon'][sample_index][0]"
   ]
  },
  {
   "cell_type": "code",
   "execution_count": 6,
   "metadata": {},
   "outputs": [],
   "source": [
    "seqkeep, headkeep = get_seq('localkeep_New_Proteins.fasta', get_header = True)\n",
    "# Get genes trimmed by matlab\n",
    "lib = sio.loadmat('lib_local.mat')['lib']\n",
    "CodonUsageTable = pd.ExcelFile('yeast_codon.xlsx').parse().set_index('aa')"
   ]
  },
  {
   "cell_type": "code",
   "execution_count": 7,
   "metadata": {},
   "outputs": [],
   "source": [
    "TransDict = {} # dictionary to map amino acid with codons. One AA corresponds to >=1 codons\n",
    "for i in set(CodonUsageTable.index): # Add dictionary for each amino acid\n",
    "    TransDict.update({i:CodonUsageTable.loc[i]})"
   ]
  },
  {
   "cell_type": "code",
   "execution_count": 8,
   "metadata": {},
   "outputs": [],
   "source": [
    "gene = [lib[i][0][5][0].upper() for i in range(len(seqkeep))]\n",
    "Nm = len(gene)# modify"
   ]
  },
  {
   "cell_type": "code",
   "execution_count": 10,
   "metadata": {},
   "outputs": [],
   "source": [
    "# split gene by codons\n",
    "gene_split = []\n",
    "for i in gene:\n",
    "    assert len(i)%3 == 0, 'length error'\n",
    "    length = int(len(i)/3)\n",
    "    codon_split = []\n",
    "    for j in range(length):\n",
    "        codon_split.append(i[j*3:j*3+3])\n",
    "    assert i == ''.join(codon_split)\n",
    "    gene_split.append(codon_split)"
   ]
  },
  {
   "cell_type": "code",
   "execution_count": 11,
   "metadata": {},
   "outputs": [],
   "source": [
    "# Proteins to be reverse translated, use the one aligned by matlab to keep consistent for translation.\n",
    "protein, ref = [], []\n",
    "for i in range(Nm):\n",
    "    protein.append(lib[i][0][4][0])\n",
    "    ref.append(lib[i][0][4][2])\n",
    "    assert protein[i].replace('-','') == str(seqkeep[i]).replace('-','')"
   ]
  },
  {
   "cell_type": "code",
   "execution_count": 19,
   "metadata": {},
   "outputs": [],
   "source": [
    "fw_assembly_p = 'CCGGTTGTACCTATCGAGTG'+'GGATCC'\n",
    "rv_assembly_p = 'GAATTC'+'GTACCTCTCCTTGCATGGTC'\n",
    "\n",
    "rv_assembly_p_cp = str(Seq(rv_assembly_p).reverse_complement())\n",
    "fw_assembly_p_cp = str(Seq(fw_assembly_p).reverse_complement())\n",
    "\n",
    "resites={'GGATCC','GAATTC','AAAAA','GGGGG','CCCCC','TTTTT'}; # BamH1, EcoR1 and replicating pattern"
   ]
  },
  {
   "cell_type": "code",
   "execution_count": 18,
   "metadata": {},
   "outputs": [
    {
     "name": "stdout",
     "output_type": "stream",
     "text": [
      "1000 finished...\n",
      "2000 finished...\n",
      "3000 finished...\n",
      "4000 finished...\n",
      "5000 finished...\n",
      "6000 finished...\n",
      "7000 finished...\n",
      "8000 finished...\n",
      "Finished!\n"
     ]
    }
   ],
   "source": [
    "gene_design, problematic_index = [], []\n",
    "global_rand = 0\n",
    "for i in range(Nm):\n",
    "    gene_tmp, flag, gene_ind, pro_ind = '', 0, 0, 0 \n",
    "    # Initially flag=0, if sampled gene is problematic flag=1, if it's good flag=2\n",
    "    for j in range(len(protein[i])):\n",
    "        avoid_homology_para = 0\n",
    "        if protein[i][j] == '-':\n",
    "            pass\n",
    "        elif protein[i][j] != ref[i][j] or avoid_homology_para == 5: \n",
    "            # Sample a new codon if AA don't match at the position.\n",
    "            # protein[i]: i th designed protein\n",
    "            # ref[i]: top hit natural protein of i th designed protein, according to blast result\n",
    "            gene_tmp += sampling(protein[i][j], TransDict, global_rand) \n",
    "            global_rand += 1\n",
    "            avoid_homology_para = 0\n",
    "        else:\n",
    "            gene_tmp += gene_split[i][gene_ind] # use the original codon if match\n",
    "            avoid_homology_para += 1\n",
    "        if ref[i][j] != '-': # skip the gap\n",
    "            gene_ind += 1\n",
    "        if protein[i][j] != '-':\n",
    "            pro_ind += 1\n",
    "        gene_tmp = gene_tmp.replace('U','T') # replace codon to gene\n",
    "        \n",
    "    # Special treatment to terminals of the gene\n",
    "    if protein[i].replace('-','')[0] == 'T':\n",
    "        gene_tmp = 'ACA' + gene_tmp[3:]\n",
    "    if protein[i].replace('-','')[0] == 'P':\n",
    "        gene_tmp = 'CCG' + gene_tmp[3:]\n",
    "    if protein[i].replace('-','')[-1] == 'S':\n",
    "        gene_tmp = gene_tmp[:-3]+'AGC'\n",
    "    if protein[i].replace('-','')[-1] == 'G':\n",
    "        gene_tmp = gene_tmp[:-3]+'GGC'\n",
    "        \n",
    "    flag = 2\n",
    "    for k in resites:\n",
    "        if k in gene_tmp:\n",
    "            flag, modify_pos = 1, int(gene_tmp.find(k)/3)\n",
    "            break\n",
    "            \n",
    "    randseed = 1\n",
    "    while flag ==1: # Correct problematic sequences by resampling\n",
    "        gene_fix, pro_ind = '', 0\n",
    "        left, right = int(modify_pos!=0), int(modify_pos<len(gene_tmp)-1) # if it's a terminal position\n",
    "        for j in range(len(protein[i])):\n",
    "            if pro_ind in np.arange(modify_pos-left,modify_pos+right+1):\n",
    "                gene_fix += sampling(protein[i][j], TransDict, randseed) # resampling\n",
    "            if protein[i][j] != '-':\n",
    "                pro_ind += 1\n",
    "        gene_tmp = gene_tmp[:(modify_pos-left)*3] + gene_fix + gene_tmp[(modify_pos+right+1)*3:]\n",
    "        gene_tmp = gene_tmp.replace('U','T')\n",
    "        \n",
    "        # Redo the treatment for terminal positions... \n",
    "        if protein[i].replace('-','')[0] == 'T':\n",
    "            gene_tmp = 'ACA' + gene_tmp[3:]\n",
    "        if protein[i].replace('-','')[0] == 'P':\n",
    "            gene_tmp = 'CCG' + gene_tmp[3:]\n",
    "        if protein[i].replace('-','')[-1] == 'S':\n",
    "            gene_tmp = gene_tmp[:-3]+'AGC'\n",
    "        if protein[i].replace('-','')[-1] == 'G':\n",
    "            gene_tmp = gene_tmp[:-3]+'GGC'\n",
    "        \n",
    "        flag = 2\n",
    "        for k in resites: # Check ahain\n",
    "            if k in gene_tmp:\n",
    "                flag, modify_pos = 1, int(gene_tmp.find(k)/3)\n",
    "                randseed +=1\n",
    "                break\n",
    "        if randseed > 80:\n",
    "            flag = 2\n",
    "            for k in resites:\n",
    "                if k in gene_tmp:\n",
    "                    problematic_index.append(i)\n",
    "                    break\n",
    "    gene_design.append(gene_tmp)\n",
    "    if i%1000 == 0 and i!=0:\n",
    "        print('%d finished...' %i)\n",
    "print('Finished!')"
   ]
  },
  {
   "cell_type": "code",
   "execution_count": 21,
   "metadata": {},
   "outputs": [
    {
     "name": "stdout",
     "output_type": "stream",
     "text": [
      "0\n"
     ]
    }
   ],
   "source": [
    "print(len(problematic_index))"
   ]
  },
  {
   "cell_type": "code",
   "execution_count": 24,
   "metadata": {},
   "outputs": [],
   "source": [
    "# Append the RE site + primer sequences to the genes\n",
    "gene_design_300 = []\n",
    "for i in gene_design:\n",
    "    gene_design_300.append(fw_assembly_p + i + rv_assembly_p_cp)"
   ]
  },
  {
   "cell_type": "code",
   "execution_count": 25,
   "metadata": {},
   "outputs": [
    {
     "name": "stdout",
     "output_type": "stream",
     "text": [
      "Generating random sequences...\n"
     ]
    }
   ],
   "source": [
    "# length of random sequences\n",
    "len_randseq = []\n",
    "for i in gene_design_300:\n",
    "    len_randseq.append(300 - len(i))\n",
    "    \n",
    "print('Generating random sequences...')\n",
    "randseed = 0\n",
    "randseq_list300 = []\n",
    "for i in len_randseq:\n",
    "    flag = 0\n",
    "    while flag == 0:\n",
    "        np.random.seed(randseed)\n",
    "        randseq = ''.join(['ACTG'[j] for j in np.random.randint(0,4,i)])\n",
    "        \n",
    "        flag = 1\n",
    "        for k in resites:\n",
    "            if k in randseq or k[:2] in randseq[-5:]:\n",
    "                flag = 0\n",
    "                randseed +=1\n",
    "                break\n",
    "    randseq_list300.append(randseq)\n",
    "    randseed +=1"
   ]
  },
  {
   "cell_type": "code",
   "execution_count": 28,
   "metadata": {},
   "outputs": [],
   "source": [
    "gene300_final = []\n",
    "for i in range(Nm):\n",
    "    gene300_final.append(randseq_list300[i]+gene_design_300[i])"
   ]
  },
  {
   "cell_type": "code",
   "execution_count": 31,
   "metadata": {},
   "outputs": [
    {
     "name": "stdout",
     "output_type": "stream",
     "text": [
      "Writing excel file...\n"
     ]
    }
   ],
   "source": [
    "print('Writing excel file...')\n",
    "wb = Workbook() \n",
    "sheet1 = wb.add_sheet('Sheet 1') \n",
    "for i,item in enumerate(gene300_final):\n",
    "    sheet1.write(i, 0, headkeep[i]) \n",
    "    sheet1.write(i, 1, item) \n",
    "wb.save('oligo300.xls') "
   ]
  },
  {
   "cell_type": "code",
   "execution_count": 33,
   "metadata": {},
   "outputs": [],
   "source": [
    "with open('oligo300.an', 'w') as f:\n",
    "    for i,item in enumerate(gene300_final):\n",
    "        f.write(\">%s\\n\" %headkeep[i])\n",
    "        f.write(\"%s\\n\" %item)"
   ]
  },
  {
   "cell_type": "code",
   "execution_count": 36,
   "metadata": {},
   "outputs": [
    {
     "name": "stderr",
     "output_type": "stream",
     "text": [
      "/Users/xinran/opt/anaconda3/lib/python3.7/site-packages/Bio/Seq.py:2859: BiopythonWarning: Partial codon, len(sequence) not a multiple of three. Explicitly trim the sequence or add trailing N before translation. This may become an error in future.\n",
      "  BiopythonWarning,\n"
     ]
    },
    {
     "ename": "AssertionError",
     "evalue": "",
     "output_type": "error",
     "traceback": [
      "\u001b[0;31m---------------------------------------------------------------------------\u001b[0m",
      "\u001b[0;31mAssertionError\u001b[0m                            Traceback (most recent call last)",
      "\u001b[0;32m<ipython-input-36-25ed54d6b847>\u001b[0m in \u001b[0;36m<module>\u001b[0;34m\u001b[0m\n\u001b[1;32m      4\u001b[0m     \u001b[0mtranslate\u001b[0m \u001b[0;34m=\u001b[0m \u001b[0mSeq\u001b[0m\u001b[0;34m(\u001b[0m\u001b[0mfrag_digest\u001b[0m\u001b[0;34m)\u001b[0m\u001b[0;34m.\u001b[0m\u001b[0mtranslate\u001b[0m\u001b[0;34m(\u001b[0m\u001b[0;34m)\u001b[0m\u001b[0;34m\u001b[0m\u001b[0;34m\u001b[0m\u001b[0m\n\u001b[1;32m      5\u001b[0m     \u001b[0;32massert\u001b[0m \u001b[0mlen\u001b[0m\u001b[0;34m(\u001b[0m\u001b[0mi\u001b[0m\u001b[0;34m)\u001b[0m \u001b[0;34m==\u001b[0m\u001b[0;36m300\u001b[0m\u001b[0;34m\u001b[0m\u001b[0;34m\u001b[0m\u001b[0m\n\u001b[0;32m----> 6\u001b[0;31m     \u001b[0;32massert\u001b[0m \u001b[0mlen\u001b[0m\u001b[0;34m(\u001b[0m\u001b[0mfrag_digest\u001b[0m\u001b[0;34m)\u001b[0m\u001b[0;34m%\u001b[0m\u001b[0;36m3\u001b[0m \u001b[0;34m==\u001b[0m\u001b[0;36m0\u001b[0m\u001b[0;34m\u001b[0m\u001b[0;34m\u001b[0m\u001b[0m\n\u001b[0m\u001b[1;32m      7\u001b[0m     \u001b[0;32massert\u001b[0m \u001b[0mstr\u001b[0m\u001b[0;34m(\u001b[0m\u001b[0mtranslate\u001b[0m\u001b[0;34m)\u001b[0m \u001b[0;34m==\u001b[0m \u001b[0mstr\u001b[0m\u001b[0;34m(\u001b[0m\u001b[0mprotein_2\u001b[0m\u001b[0;34m[\u001b[0m\u001b[0mnum\u001b[0m\u001b[0;34m]\u001b[0m\u001b[0;34m)\u001b[0m\u001b[0;34m.\u001b[0m\u001b[0mreplace\u001b[0m\u001b[0;34m(\u001b[0m\u001b[0;34m'-'\u001b[0m\u001b[0;34m,\u001b[0m\u001b[0;34m''\u001b[0m\u001b[0;34m)\u001b[0m \u001b[0;31m# translated match protein\u001b[0m\u001b[0;34m\u001b[0m\u001b[0;34m\u001b[0m\u001b[0m\n",
      "\u001b[0;31mAssertionError\u001b[0m: "
     ]
    }
   ],
   "source": [
    "# check...\n",
    "for num, i in enumerate(gene300_final):\n",
    "    frag_digest = i[i.find('CCGGTTGTACCTATCGAGTGGGATCC')+26 : i.find('GAATTCGTACCTCTCCTTGCATGGTC')]\n",
    "    translate = Seq(frag_digest).translate()\n",
    "    assert len(i) ==300\n",
    "    assert len(frag_digest)%3 ==0\n",
    "    assert str(translate) == str(protein_2[num]).replace('-','') # translated match protein"
   ]
  },
  {
   "cell_type": "code",
   "execution_count": 44,
   "metadata": {},
   "outputs": [],
   "source": [
    "tmp = pd.read_excel('oligo300.xls', header=None)\n",
    "tmp_protein = get_seq('Final_New_Proteins_tosubmit.fasta')\n",
    "oligolist = [i for i in tmp.loc[:,1]]"
   ]
  },
  {
   "cell_type": "code",
   "execution_count": 45,
   "metadata": {},
   "outputs": [
    {
     "ename": "AssertionError",
     "evalue": "0",
     "output_type": "error",
     "traceback": [
      "\u001b[0;31m---------------------------------------------------------------------------\u001b[0m",
      "\u001b[0;31mAssertionError\u001b[0m                            Traceback (most recent call last)",
      "\u001b[0;32m<ipython-input-45-8f05904c802a>\u001b[0m in \u001b[0;36m<module>\u001b[0;34m\u001b[0m\n\u001b[1;32m      2\u001b[0m     \u001b[0;32massert\u001b[0m \u001b[0mlen\u001b[0m\u001b[0;34m(\u001b[0m\u001b[0moligolist\u001b[0m\u001b[0;34m[\u001b[0m\u001b[0mi\u001b[0m\u001b[0;34m]\u001b[0m\u001b[0;34m)\u001b[0m \u001b[0;34m==\u001b[0m \u001b[0;36m300\u001b[0m\u001b[0;34m\u001b[0m\u001b[0;34m\u001b[0m\u001b[0m\n\u001b[1;32m      3\u001b[0m     \u001b[0;32mfor\u001b[0m \u001b[0mj\u001b[0m \u001b[0;32min\u001b[0m \u001b[0;34m[\u001b[0m\u001b[0;34m'GGATCC'\u001b[0m\u001b[0;34m,\u001b[0m \u001b[0;34m'GAATTC'\u001b[0m\u001b[0;34m,\u001b[0m \u001b[0;34m'CCGGTTGTACCTATCGAGTGG'\u001b[0m\u001b[0;34m,\u001b[0m \u001b[0;34m'GAATTCGTACCTCTCCTTGCATGGTC'\u001b[0m\u001b[0;34m]\u001b[0m\u001b[0;34m:\u001b[0m\u001b[0;34m\u001b[0m\u001b[0;34m\u001b[0m\u001b[0m\n\u001b[0;32m----> 4\u001b[0;31m         \u001b[0;32massert\u001b[0m \u001b[0moligolist\u001b[0m\u001b[0;34m[\u001b[0m\u001b[0mi\u001b[0m\u001b[0;34m]\u001b[0m\u001b[0;34m.\u001b[0m\u001b[0mcount\u001b[0m\u001b[0;34m(\u001b[0m\u001b[0mj\u001b[0m\u001b[0;34m)\u001b[0m\u001b[0;34m==\u001b[0m\u001b[0;36m1\u001b[0m\u001b[0;34m,\u001b[0m\u001b[0mi\u001b[0m\u001b[0;34m\u001b[0m\u001b[0;34m\u001b[0m\u001b[0m\n\u001b[0m\u001b[1;32m      5\u001b[0m     \u001b[0;32mfor\u001b[0m \u001b[0mj\u001b[0m \u001b[0;32min\u001b[0m \u001b[0;34m[\u001b[0m\u001b[0;34m'GGGGG'\u001b[0m\u001b[0;34m,\u001b[0m\u001b[0;34m'AAAAA'\u001b[0m\u001b[0;34m,\u001b[0m\u001b[0;34m'TTTTT'\u001b[0m\u001b[0;34m,\u001b[0m\u001b[0;34m'CCCCC'\u001b[0m\u001b[0;34m]\u001b[0m\u001b[0;34m:\u001b[0m\u001b[0;34m\u001b[0m\u001b[0;34m\u001b[0m\u001b[0m\n\u001b[1;32m      6\u001b[0m         \u001b[0;32massert\u001b[0m \u001b[0mj\u001b[0m \u001b[0;32mnot\u001b[0m \u001b[0;32min\u001b[0m \u001b[0moligolist\u001b[0m\u001b[0;34m[\u001b[0m\u001b[0mi\u001b[0m\u001b[0;34m]\u001b[0m\u001b[0;34m\u001b[0m\u001b[0;34m\u001b[0m\u001b[0m\n",
      "\u001b[0;31mAssertionError\u001b[0m: 0"
     ]
    }
   ],
   "source": [
    "for i in range(len(oligolist)):\n",
    "    assert len(oligolist[i]) == 300\n",
    "    for j in ['GGATCC', 'GAATTC', 'CCGGTTGTACCTATCGAGTGG', 'GAATTCGTACCTCTCCTTGCATGGTC']:\n",
    "        assert oligolist[i].count(j)==1,i\n",
    "    for j in ['GGGGG','AAAAA','TTTTT','CCCCC']:\n",
    "        assert j not in oligolist[i]"
   ]
  }
 ],
 "metadata": {
  "kernelspec": {
   "display_name": "Python 3",
   "language": "python",
   "name": "python3"
  },
  "language_info": {
   "codemirror_mode": {
    "name": "ipython",
    "version": 3
   },
   "file_extension": ".py",
   "mimetype": "text/x-python",
   "name": "python",
   "nbconvert_exporter": "python",
   "pygments_lexer": "ipython3",
   "version": "3.7.4"
  }
 },
 "nbformat": 4,
 "nbformat_minor": 2
}
